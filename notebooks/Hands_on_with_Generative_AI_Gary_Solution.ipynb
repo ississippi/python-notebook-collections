{
 "cells": [
  {
   "cell_type": "markdown",
   "metadata": {
    "id": "nx0qiGWO7qWV"
   },
   "source": [
    "# Hands-On with Generative AI Assignment\n",
    "\n",
    "Here you will gain hands-on experience working with GPT language models via the OpenAI API. Specifically, you will:\n",
    "1. Create an OpenAI account and obtain an API key.\n",
    "2. Try generating outputs from several different models available via the API.\n",
    "3. Gain a first exposure to prompt engineering by experimenting with using multiple prompts for a given task."
   ]
  },
  {
   "cell_type": "markdown",
   "metadata": {
    "id": "pVACWFAT7_k6"
   },
   "source": [
    "---\n",
    "## Problem 1\n",
    "\n",
    "Create an [OpenAI account](https://openai.com/index/openai-api), then generate an API key."
   ]
  },
  {
   "cell_type": "markdown",
   "metadata": {
    "id": "ycWJVTEyoibf"
   },
   "source": [
    "---\n",
    "## Problem 2\n",
    "\n",
    "Use the OpenAI API to produce responses to a given prompt using two different models. First use the GPT-3.5 Turbo model to evaluate the prompt, then use the GPT-4 Turbo model to evaluate the same prompt.\n",
    "\n",
    "For your prompt, try asking the models to perform the following task which requires a bit of reasoning to solve:\n",
    "```\n",
    "Andrew is free from 11 am to 3 pm, Joanne is free from noon to 2 pm and then 3:30 pm to 5 pm.\n",
    "Hannah is available at noon for half an hour, and then 4 pm to 6 pm.\n",
    "What are some options for start times for a 30 minute meeting for Andrew, Hannah, and Joanne?\n",
    "```\n",
    "Compare the quality of the outputs that are obtained from the two different models."
   ]
  },
  {
   "cell_type": "code",
   "execution_count": 2,
   "metadata": {
    "id": "b9LpkjnI3JhZ"
   },
   "outputs": [],
   "source": [
    "# Import packages that you will use for accessing the OpenAI API\n",
    "import json\n",
    "from google.colab import drive\n",
    "from openai import OpenAI"
   ]
  },
  {
   "cell_type": "code",
   "execution_count": 3,
   "metadata": {
    "colab": {
     "base_uri": "https://localhost:8080/"
    },
    "id": "kSCwxaToHmB6",
    "outputId": "8acfea95-0913-46d8-fb42-546f756ba548"
   },
   "outputs": [
    {
     "name": "stdout",
     "output_type": "stream",
     "text": [
      "Mounted at /content/gdrive\n"
     ]
    }
   ],
   "source": [
    "# Mount Google Drive.\n",
    "# We will get our OpenAI API key from a file that we stored in Google Drive.\n",
    "drive.mount(\"/content/gdrive\")"
   ]
  },
  {
   "cell_type": "code",
   "execution_count": 4,
   "metadata": {
    "id": "Pw2084CcH85C"
   },
   "outputs": [],
   "source": [
    "# Read in API key\n",
    "with open(\"/content/gdrive/MyDrive/OpenAI/keys.json\", \"r\") as f:\n",
    "  api_key = json.loads(f.read())[\"api_key\"]"
   ]
  },
  {
   "cell_type": "code",
   "execution_count": 5,
   "metadata": {
    "id": "sr9hMk_BIG1H"
   },
   "outputs": [],
   "source": [
    "# Create an OpenAI client\n",
    "client = OpenAI(api_key=api_key)"
   ]
  },
  {
   "cell_type": "code",
   "execution_count": 8,
   "metadata": {
    "colab": {
     "base_uri": "https://localhost:8080/",
     "height": 53
    },
    "id": "MQA-WRoLIMRa",
    "outputId": "ff9e2444-c8e3-4b8e-978b-ec843f72d80d"
   },
   "outputs": [
    {
     "data": {
      "application/vnd.google.colaboratory.intrinsic+json": {
       "type": "string"
      },
      "text/plain": [
       "'One option for a 30-minute meeting that works for all three is at 4:00 pm. This way, Andrew will join the meeting for the full duration, Joanne will be available at 3:30 pm, and Hannah will be available until 4:30 pm.'"
      ]
     },
     "execution_count": 8,
     "metadata": {},
     "output_type": "execute_result"
    }
   ],
   "source": [
    "# Generating responsefrom gpt-3.5-turbo\n",
    "\n",
    "prompt = \"Andrew is free from 11 am to 3 pm, Joanne is free from noon to 2 pm and then 3:30 pm to 5 pm. Hannah is available at noon for half an hour, and then 4 pm to 6 pm. What are some options for start times for a 30 minute meeting for Andrew, Hannah, and Joanne? \"\n",
    "\n",
    "openai_response35 = client.chat.completions.create(\n",
    "    model = 'gpt-3.5-turbo',\n",
    "    messages = [{'role': 'user', 'content': prompt}]\n",
    ")\n",
    "\n",
    "# Print the response\n",
    "print(openai_response35.choices[0].message.content)"
   ]
  },
  {
   "cell_type": "code",
   "execution_count": 9,
   "metadata": {
    "colab": {
     "base_uri": "https://localhost:8080/",
     "height": 122
    },
    "id": "wMzaH-S2IiDx",
    "outputId": "d2f19ffc-3d35-49d2-96b2-97a61a50581e"
   },
   "outputs": [
    {
     "data": {
      "application/vnd.google.colaboratory.intrinsic+json": {
       "type": "string"
      },
      "text/plain": [
       "\"To identify the potential start times for a 30-minute meeting that includes Andrew, Joanne, and Hannah, we need to find the overlapping times among their schedules where all three are available. Here’s a breakdown of availability, looking for intersections in their schedules:\\n\\n1. Andrew's availability: 11 am to 3 pm\\n2. Joanne's availability: 12 pm to 2 pm, and then 3:30 pm to 5 pm\\n3. Hannah’s availability: 12 pm to 12:30 pm, and then 4 pm to 6 pm\\n\\nAnalyzing the overlap:\\n\\n- From 12 pm to 12:30 pm, all three are available. This is the first potential window.\\n- Joanne's next slot starting from 3:30 pm does not overlap with Andrew, since his availability ends at 3 pm. Moreover, Hannah's slot that begins at 4 pm starts after Andrew's availability has ended.\\n\\nGiven this, the only potential starting time for a 30-minute meeting where Andrew, Joanne, and Hannah are all available is:\\n- **12:00 pm to 12:30 pm** \\n\\nThis is the only time slot that allows for all three of them to participate in a meeting together based on your given schedules.\""
      ]
     },
     "execution_count": 9,
     "metadata": {},
     "output_type": "execute_result"
    }
   ],
   "source": [
    "# Generating responsefrom gpt-4-turbo\n",
    "openai_response40 = client.chat.completions.create(\n",
    "    model = 'gpt-4-turbo',\n",
    "    messages = [{'role': 'user', 'content': prompt}]\n",
    ")\n",
    "\n",
    "# Print the response\n",
    "print(openai_response40.choices[0].message.content)"
   ]
  },
  {
   "cell_type": "code",
   "execution_count": 16,
   "metadata": {
    "colab": {
     "base_uri": "https://localhost:8080/"
    },
    "id": "sKJGwvm-I63e",
    "outputId": "1c96c1f8-58d7-459f-cca9-c11288a34b36"
   },
   "outputs": [
    {
     "name": "stdout",
     "output_type": "stream",
     "text": [
      "gpt35: =============\n",
      " One option for a 30-minute meeting that works for all three is at 4:00 pm. This way, Andrew will join the meeting for the full duration, Joanne will be available at 3:30 pm, and Hannah will be available until 4:30 pm.\n",
      "gpt4: =============\n",
      " To identify the potential start times for a 30-minute meeting that includes Andrew, Joanne, and Hannah, we need to find the overlapping times among their schedules where all three are available. Here’s a breakdown of availability, looking for intersections in their schedules:\n",
      "\n",
      "1. Andrew's availability: 11 am to 3 pm\n",
      "2. Joanne's availability: 12 pm to 2 pm, and then 3:30 pm to 5 pm\n",
      "3. Hannah’s availability: 12 pm to 12:30 pm, and then 4 pm to 6 pm\n",
      "\n",
      "Analyzing the overlap:\n",
      "\n",
      "- From 12 pm to 12:30 pm, all three are available. This is the first potential window.\n",
      "- Joanne's next slot starting from 3:30 pm does not overlap with Andrew, since his availability ends at 3 pm. Moreover, Hannah's slot that begins at 4 pm starts after Andrew's availability has ended.\n",
      "\n",
      "Given this, the only potential starting time for a 30-minute meeting where Andrew, Joanne, and Hannah are all available is:\n",
      "- **12:00 pm to 12:30 pm** \n",
      "\n",
      "This is the only time slot that allows for all three of them to participate in a meeting together based on your given schedules.\n"
     ]
    }
   ],
   "source": [
    "print(\"gpt35: =============\\n\", openai_response35.choices[0].message.content)\n",
    "print(\"gpt4: =============\\n\", openai_response40.choices[0].message.content)\n"
   ]
  },
  {
   "cell_type": "markdown",
   "metadata": {
    "id": "YLkPtSavLIQF"
   },
   "source": [
    "---\n",
    "## Problem 3\n",
    "Here you will see an example of how the prompting strategy can impact the quality of the output produced. In this problem you will again apply GPT-3.5 to the reasoning task from Problem 2. However, unlike in Problem 2, modify your prompt to include some general step-by-step instructions for solving a scheduling task like the one given. Can you produce a prompt that enables GPT-3.5 to arrive at a correct answer?"
   ]
  },
  {
   "cell_type": "code",
   "execution_count": 20,
   "metadata": {
    "colab": {
     "base_uri": "https://localhost:8080/"
    },
    "id": "BG7UhaPuv12t",
    "outputId": "729a982f-657a-425f-f25e-0a097d8ac8d9"
   },
   "outputs": [
    {
     "name": "stdout",
     "output_type": "stream",
     "text": [
      "Available start times for a 30 minute meeting for Andrew, Hannah, and Joanne:\n",
      "- Andrew: 11 am to 11:30 am, 11:30 am to 12 pm, 2 pm to 2:30 pm\n",
      "- Joanne: 3:30 pm to 4 pm, 4 pm to 4:30 pm, 4:30 pm to 5 pm\n",
      "- Hannah: 12 pm to 12:30 pm, 4 pm to 4:30 pm\n",
      "\n",
      "Overlap in meeting times:\n",
      "- Andrew, Joanne, and Hannah are all available at 4 pm to 4:30 pm.\n"
     ]
    }
   ],
   "source": [
    "prompt = \"Andrew is free from 11 am to 3 pm, Joanne is free from noon to 2 pm and then 3:30 pm to 5 pm. \"\n",
    "prompt += \"Hannah is available at noon for half an hour, and then 4 pm to 6 pm. \"\n",
    "prompt += \"First list the available start times for a 30 minute meeting for Andrew, Hannah, and Joanne. \"\n",
    "prompt += \"Analyze the overlap in meeting times and identify which times all three are available.\"\n",
    "openai_response35 = client.chat.completions.create(\n",
    "    model = 'gpt-3.5-turbo',\n",
    "    messages = [{'role': 'user', 'content': prompt}]\n",
    ")\n",
    "\n",
    "# Print the response\n",
    "print(openai_response35.choices[0].message.content)"
   ]
  },
  {
   "cell_type": "code",
   "execution_count": null,
   "metadata": {
    "id": "kVhpy4JDKW02"
   },
   "outputs": [],
   "source": []
  }
 ],
 "metadata": {
  "colab": {
   "provenance": []
  },
  "kernelspec": {
   "display_name": "Python 3 (ipykernel)",
   "language": "python",
   "name": "python3"
  },
  "language_info": {
   "codemirror_mode": {
    "name": "ipython",
    "version": 3
   },
   "file_extension": ".py",
   "mimetype": "text/x-python",
   "name": "python",
   "nbconvert_exporter": "python",
   "pygments_lexer": "ipython3",
   "version": "3.12.4"
  }
 },
 "nbformat": 4,
 "nbformat_minor": 4
}
